{
 "cells": [
  {
   "cell_type": "markdown",
   "metadata": {},
   "source": [
    "# Ch `03`: Concept `03`"
   ]
  },
  {
   "cell_type": "markdown",
   "metadata": {},
   "source": [
    "## Regularization"
   ]
  },
  {
   "cell_type": "markdown",
   "metadata": {},
   "source": [
    "Import the relevant libraries and initialize the hyper-parameters"
   ]
  },
  {
   "cell_type": "code",
   "execution_count": 1,
   "metadata": {},
   "outputs": [],
   "source": [
    "import tensorflow as tf\n",
    "import numpy as np\n",
    "import matplotlib.pyplot as plt\n",
    "\n",
    "np.random.seed(100)\n",
    "\n",
    "learning_rate = 0.001\n",
    "training_epochs = 1000\n",
    "reg_lambda = 0."
   ]
  },
  {
   "cell_type": "markdown",
   "metadata": {},
   "source": [
    "create a helper method to split the dataset"
   ]
  },
  {
   "cell_type": "code",
   "execution_count": 2,
   "metadata": {},
   "outputs": [],
   "source": [
    "def split_dataset(x_dataset, y_dataset, ratio):\n",
    "    arr = np.arange(x_dataset.size)\n",
    "    np.random.shuffle(arr)\n",
    "    num_train = int(ratio * x_dataset.size)\n",
    "    x_train = x_dataset[arr[0:num_train]]\n",
    "    y_train = y_dataset[arr[0:num_train]]\n",
    "    x_test = x_dataset[arr[num_train:x_dataset.size]]\n",
    "    y_test = y_dataset[arr[num_train:x_dataset.size]]\n",
    "    return x_train, x_test, y_train, y_test"
   ]
  },
  {
   "cell_type": "markdown",
   "metadata": {},
   "source": [
    "Create a fake dataset. y = x^2"
   ]
  },
  {
   "cell_type": "code",
   "execution_count": 3,
   "metadata": {},
   "outputs": [],
   "source": [
    "x_dataset = np.linspace(-1, 1, 100)\n",
    "\n",
    "num_coeffs = 9\n",
    "y_dataset_params = [0.] * num_coeffs\n",
    "y_dataset_params[2] = 1\n",
    "y_dataset = 0\n",
    "for i in range(num_coeffs):\n",
    "    y_dataset += y_dataset_params[i] * np.power(x_dataset, i)\n",
    "y_dataset += np.random.randn(*x_dataset.shape) * 0.3"
   ]
  },
  {
   "cell_type": "markdown",
   "metadata": {},
   "source": [
    "Split the dataset into 70% training and testing 30%"
   ]
  },
  {
   "cell_type": "code",
   "execution_count": 4,
   "metadata": {},
   "outputs": [],
   "source": [
    "(x_train, x_test, y_train, y_test) = split_dataset(x_dataset, y_dataset, 0.7)\n"
   ]
  },
  {
   "cell_type": "markdown",
   "metadata": {},
   "source": [
    "Set up the input/output placeholders"
   ]
  },
  {
   "cell_type": "code",
   "execution_count": 5,
   "metadata": {},
   "outputs": [],
   "source": [
    "X = tf.placeholder(\"float\")\n",
    "Y = tf.placeholder(\"float\")"
   ]
  },
  {
   "cell_type": "markdown",
   "metadata": {},
   "source": [
    "Define our model"
   ]
  },
  {
   "cell_type": "code",
   "execution_count": 6,
   "metadata": {},
   "outputs": [],
   "source": [
    "def model(X, w):\n",
    "    terms = []\n",
    "    for i in range(num_coeffs):\n",
    "        term = tf.multiply(w[i], tf.pow(X, i))\n",
    "        terms.append(term)\n",
    "    return tf.add_n(terms)"
   ]
  },
  {
   "cell_type": "markdown",
   "metadata": {},
   "source": [
    "Define the regularized cost function"
   ]
  },
  {
   "cell_type": "code",
   "execution_count": 7,
   "metadata": {},
   "outputs": [],
   "source": [
    "w = tf.Variable([0.] * num_coeffs, name=\"parameters\")\n",
    "y_model = model(X, w)\n",
    "cost = tf.div(tf.add(tf.reduce_sum(tf.square(Y-y_model)),\n",
    "                     tf.multiply(reg_lambda, tf.reduce_sum(tf.square(w)))),\n",
    "              2*x_train.size)\n",
    "train_op = tf.train.GradientDescentOptimizer(learning_rate).minimize(cost)"
   ]
  },
  {
   "cell_type": "markdown",
   "metadata": {},
   "source": [
    "Set up the session"
   ]
  },
  {
   "cell_type": "code",
   "execution_count": 8,
   "metadata": {},
   "outputs": [],
   "source": [
    "sess = tf.Session()\n",
    "init = tf.global_variables_initializer()\n",
    "sess.run(init)"
   ]
  },
  {
   "cell_type": "markdown",
   "metadata": {},
   "source": [
    "Try out various regularization parameters "
   ]
  },
  {
   "cell_type": "code",
   "execution_count": 9,
   "metadata": {},
   "outputs": [
    {
     "name": "stdout",
     "output_type": "stream",
     "text": [
      "reg lambda 0.0\n",
      "final cost 0.032031\n",
      "reg lambda 0.010101010101010102\n",
      "final cost 0.02890249\n",
      "reg lambda 0.020202020202020204\n",
      "final cost 0.027128799\n",
      "reg lambda 0.030303030303030304\n",
      "final cost 0.025800284\n",
      "reg lambda 0.04040404040404041\n",
      "final cost 0.024812996\n",
      "reg lambda 0.05050505050505051\n",
      "final cost 0.024077078\n",
      "reg lambda 0.06060606060606061\n",
      "final cost 0.023520416\n",
      "reg lambda 0.07070707070707072\n",
      "final cost 0.023091592\n",
      "reg lambda 0.08080808080808081\n",
      "final cost 0.022754971\n",
      "reg lambda 0.09090909090909091\n",
      "final cost 0.022485778\n",
      "reg lambda 0.10101010101010102\n",
      "final cost 0.022266606\n",
      "reg lambda 0.11111111111111112\n",
      "final cost 0.022085054\n",
      "reg lambda 0.12121212121212122\n",
      "final cost 0.021932185\n",
      "reg lambda 0.13131313131313133\n",
      "final cost 0.021801468\n",
      "reg lambda 0.14141414141414144\n",
      "final cost 0.02168809\n",
      "reg lambda 0.15151515151515152\n",
      "final cost 0.021588458\n",
      "reg lambda 0.16161616161616163\n",
      "final cost 0.021499876\n",
      "reg lambda 0.17171717171717174\n",
      "final cost 0.021420266\n",
      "reg lambda 0.18181818181818182\n",
      "final cost 0.021348096\n",
      "reg lambda 0.19191919191919193\n",
      "final cost 0.021282142\n",
      "reg lambda 0.20202020202020204\n",
      "final cost 0.021221504\n",
      "reg lambda 0.21212121212121213\n",
      "final cost 0.021165388\n",
      "reg lambda 0.22222222222222224\n",
      "final cost 0.021113267\n",
      "reg lambda 0.23232323232323235\n",
      "final cost 0.02106468\n",
      "reg lambda 0.24242424242424243\n",
      "final cost 0.021019237\n",
      "reg lambda 0.25252525252525254\n",
      "final cost 0.020976666\n",
      "reg lambda 0.26262626262626265\n",
      "final cost 0.020936724\n",
      "reg lambda 0.27272727272727276\n",
      "final cost 0.020899173\n",
      "reg lambda 0.2828282828282829\n",
      "final cost 0.020863947\n",
      "reg lambda 0.29292929292929293\n",
      "final cost 0.020830829\n",
      "reg lambda 0.30303030303030304\n",
      "final cost 0.020799708\n",
      "reg lambda 0.31313131313131315\n",
      "final cost 0.020770464\n",
      "reg lambda 0.32323232323232326\n",
      "final cost 0.020743059\n",
      "reg lambda 0.33333333333333337\n",
      "final cost 0.020717325\n",
      "reg lambda 0.3434343434343435\n",
      "final cost 0.02069335\n",
      "reg lambda 0.3535353535353536\n",
      "final cost 0.020670895\n",
      "reg lambda 0.36363636363636365\n",
      "final cost 0.0206499\n",
      "reg lambda 0.37373737373737376\n",
      "final cost 0.020630509\n",
      "reg lambda 0.38383838383838387\n",
      "final cost 0.020612454\n",
      "reg lambda 0.393939393939394\n",
      "final cost 0.020595714\n",
      "reg lambda 0.4040404040404041\n",
      "final cost 0.02058036\n",
      "reg lambda 0.4141414141414142\n",
      "final cost 0.020566262\n",
      "reg lambda 0.42424242424242425\n",
      "final cost 0.020553354\n",
      "reg lambda 0.43434343434343436\n",
      "final cost 0.020541588\n",
      "reg lambda 0.4444444444444445\n",
      "final cost 0.020531094\n",
      "reg lambda 0.4545454545454546\n",
      "final cost 0.020521631\n",
      "reg lambda 0.4646464646464647\n",
      "final cost 0.02051318\n",
      "reg lambda 0.4747474747474748\n",
      "final cost 0.020505726\n",
      "reg lambda 0.48484848484848486\n",
      "final cost 0.02049942\n",
      "reg lambda 0.494949494949495\n",
      "final cost 0.020493994\n",
      "reg lambda 0.5050505050505051\n",
      "final cost 0.020489424\n",
      "reg lambda 0.5151515151515152\n",
      "final cost 0.020485763\n",
      "reg lambda 0.5252525252525253\n",
      "final cost 0.02048303\n",
      "reg lambda 0.5353535353535354\n",
      "final cost 0.0204811\n",
      "reg lambda 0.5454545454545455\n",
      "final cost 0.02047996\n",
      "reg lambda 0.5555555555555556\n",
      "final cost 0.020479543\n",
      "reg lambda 0.5656565656565657\n",
      "final cost 0.020479878\n",
      "reg lambda 0.5757575757575758\n",
      "final cost 0.020481015\n",
      "reg lambda 0.5858585858585859\n",
      "final cost 0.020482806\n",
      "reg lambda 0.595959595959596\n",
      "final cost 0.02048521\n",
      "reg lambda 0.6060606060606061\n",
      "final cost 0.020488247\n",
      "reg lambda 0.6161616161616162\n",
      "final cost 0.020491928\n",
      "reg lambda 0.6262626262626263\n",
      "final cost 0.02049626\n",
      "reg lambda 0.6363636363636365\n",
      "final cost 0.020501109\n",
      "reg lambda 0.6464646464646465\n",
      "final cost 0.020506496\n",
      "reg lambda 0.6565656565656566\n",
      "final cost 0.020512361\n",
      "reg lambda 0.6666666666666667\n",
      "final cost 0.02051879\n",
      "reg lambda 0.6767676767676768\n",
      "final cost 0.020525761\n",
      "reg lambda 0.686868686868687\n",
      "final cost 0.02053312\n",
      "reg lambda 0.696969696969697\n",
      "final cost 0.020540955\n",
      "reg lambda 0.7070707070707072\n",
      "final cost 0.02054918\n",
      "reg lambda 0.7171717171717172\n",
      "final cost 0.020557785\n",
      "reg lambda 0.7272727272727273\n",
      "final cost 0.020566843\n",
      "reg lambda 0.7373737373737375\n",
      "final cost 0.02057635\n",
      "reg lambda 0.7474747474747475\n",
      "final cost 0.02058612\n",
      "reg lambda 0.7575757575757577\n",
      "final cost 0.020596286\n",
      "reg lambda 0.7676767676767677\n",
      "final cost 0.02060673\n",
      "reg lambda 0.7777777777777778\n",
      "final cost 0.020617416\n",
      "reg lambda 0.787878787878788\n",
      "final cost 0.020628583\n",
      "reg lambda 0.797979797979798\n",
      "final cost 0.020639906\n",
      "reg lambda 0.8080808080808082\n",
      "final cost 0.020651612\n",
      "reg lambda 0.8181818181818182\n",
      "final cost 0.020663502\n",
      "reg lambda 0.8282828282828284\n",
      "final cost 0.020675601\n",
      "reg lambda 0.8383838383838385\n",
      "final cost 0.020687955\n",
      "reg lambda 0.8484848484848485\n",
      "final cost 0.020700501\n",
      "reg lambda 0.8585858585858587\n",
      "final cost 0.020713396\n",
      "reg lambda 0.8686868686868687\n",
      "final cost 0.020726355\n",
      "reg lambda 0.8787878787878789\n",
      "final cost 0.020739626\n",
      "reg lambda 0.888888888888889\n",
      "final cost 0.0207529\n",
      "reg lambda 0.8989898989898991\n",
      "final cost 0.020766499\n",
      "reg lambda 0.9090909090909092\n",
      "final cost 0.020780109\n",
      "reg lambda 0.9191919191919192\n",
      "final cost 0.02079398\n",
      "reg lambda 0.9292929292929294\n",
      "final cost 0.02080797\n",
      "reg lambda 0.9393939393939394\n",
      "final cost 0.020822179\n",
      "reg lambda 0.9494949494949496\n",
      "final cost 0.020836374\n",
      "reg lambda 0.9595959595959597\n",
      "final cost 0.020850787\n",
      "reg lambda 0.9696969696969697\n",
      "final cost 0.020865181\n",
      "reg lambda 0.9797979797979799\n",
      "final cost 0.020879777\n",
      "reg lambda 0.98989898989899\n",
      "final cost 0.020894343\n",
      "reg lambda 1.0\n",
      "final cost 0.020909095\n"
     ]
    }
   ],
   "source": [
    "for reg_lambda in np.linspace(0,1,100):\n",
    "    for epoch in range(training_epochs):\n",
    "        sess.run(train_op, feed_dict={X: x_train, Y: y_train})\n",
    "    final_cost = sess.run(cost, feed_dict={X: x_test, Y:y_test})\n",
    "    print('reg lambda', reg_lambda)\n",
    "    print('final cost', final_cost)"
   ]
  },
  {
   "cell_type": "markdown",
   "metadata": {},
   "source": [
    "Close the session"
   ]
  },
  {
   "cell_type": "code",
   "execution_count": 10,
   "metadata": {},
   "outputs": [],
   "source": [
    "sess.close()"
   ]
  },
  {
   "cell_type": "code",
   "execution_count": null,
   "metadata": {},
   "outputs": [],
   "source": []
  }
 ],
 "metadata": {
  "kernelspec": {
   "display_name": "Python 3",
   "language": "python",
   "name": "python3"
  },
  "language_info": {
   "codemirror_mode": {
    "name": "ipython",
    "version": 3
   },
   "file_extension": ".py",
   "mimetype": "text/x-python",
   "name": "python",
   "nbconvert_exporter": "python",
   "pygments_lexer": "ipython3",
   "version": "3.6.4"
  }
 },
 "nbformat": 4,
 "nbformat_minor": 1
}
