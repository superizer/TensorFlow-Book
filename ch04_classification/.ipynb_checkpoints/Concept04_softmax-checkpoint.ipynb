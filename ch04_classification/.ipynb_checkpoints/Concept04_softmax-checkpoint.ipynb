{
 "cells": [
  {
   "cell_type": "markdown",
   "metadata": {},
   "source": [
    "# Ch `04`: Concept `04` "
   ]
  },
  {
   "cell_type": "markdown",
   "metadata": {},
   "source": [
    "## Softmax classification"
   ]
  },
  {
   "cell_type": "markdown",
   "metadata": {},
   "source": [
    "Import the usual libraries:"
   ]
  },
  {
   "cell_type": "code",
   "execution_count": 1,
   "metadata": {},
   "outputs": [],
   "source": [
    "%matplotlib inline\n",
    "import numpy as np\n",
    "import tensorflow as tf\n",
    "import matplotlib.pyplot as plt"
   ]
  },
  {
   "cell_type": "markdown",
   "metadata": {},
   "source": [
    "Generated some initial 2D data:"
   ]
  },
  {
   "cell_type": "code",
   "execution_count": 2,
   "metadata": {},
   "outputs": [
    {
     "data": {
      "image/png": "[encoded data removed]",
      "text/plain": [
       "<Figure size 432x288 with 1 Axes>"
      ]
     },
     "metadata": {},
     "output_type": "display_data"
    }
   ],
   "source": [
    "learning_rate = 0.01\n",
    "training_epochs = 1000\n",
    "num_labels = 3\n",
    "batch_size = 100\n",
    "\n",
    "x1_label0 = np.random.normal(1, 1, (100, 1))\n",
    "x2_label0 = np.random.normal(1, 1, (100, 1))\n",
    "x1_label1 = np.random.normal(5, 1, (100, 1))\n",
    "x2_label1 = np.random.normal(4, 1, (100, 1))\n",
    "x1_label2 = np.random.normal(8, 1, (100, 1))\n",
    "x2_label2 = np.random.normal(0, 1, (100, 1))\n",
    "\n",
    "plt.scatter(x1_label0, x2_label0, c='r', marker='o', s=60)\n",
    "plt.scatter(x1_label1, x2_label1, c='g', marker='x', s=60)\n",
    "plt.scatter(x1_label2, x2_label2, c='b', marker='_', s=60)\n",
    "plt.show()"
   ]
  },
  {
   "cell_type": "markdown",
   "metadata": {},
   "source": [
    "Define the labels and shuffle the data:"
   ]
  },
  {
   "cell_type": "code",
   "execution_count": 3,
   "metadata": {},
   "outputs": [],
   "source": [
    "xs_label0 = np.hstack((x1_label0, x2_label0))\n",
    "xs_label1 = np.hstack((x1_label1, x2_label1))\n",
    "xs_label2 = np.hstack((x1_label2, x2_label2))\n",
    "\n",
    "xs = np.vstack((xs_label0, xs_label1, xs_label2))\n",
    "labels = np.matrix([[1., 0., 0.]] * len(x1_label0) + [[0., 1., 0.]] * len(x1_label1) + [[0., 0., 1.]] * len(x1_label2))\n",
    "\n",
    "arr = np.arange(xs.shape[0])\n",
    "np.random.shuffle(arr)\n",
    "xs = xs[arr, :]\n",
    "labels = labels[arr, :]"
   ]
  },
  {
   "cell_type": "markdown",
   "metadata": {},
   "source": [
    "We'll get back to this later, but the following are test inputs that we'll use to evaluate the model:"
   ]
  },
  {
   "cell_type": "code",
   "execution_count": 4,
   "metadata": {},
   "outputs": [],
   "source": [
    "test_x1_label0 = np.random.normal(1, 1, (10, 1))\n",
    "test_x2_label0 = np.random.normal(1, 1, (10, 1))\n",
    "test_x1_label1 = np.random.normal(5, 1, (10, 1))\n",
    "test_x2_label1 = np.random.normal(4, 1, (10, 1))\n",
    "test_x1_label2 = np.random.normal(8, 1, (10, 1))\n",
    "test_x2_label2 = np.random.normal(0, 1, (10, 1))\n",
    "test_xs_label0 = np.hstack((test_x1_label0, test_x2_label0))\n",
    "test_xs_label1 = np.hstack((test_x1_label1, test_x2_label1))\n",
    "test_xs_label2 = np.hstack((test_x1_label2, test_x2_label2))\n",
    "\n",
    "test_xs = np.vstack((test_xs_label0, test_xs_label1, test_xs_label2))\n",
    "test_labels = np.matrix([[1., 0., 0.]] * 10 + [[0., 1., 0.]] * 10 + [[0., 0., 1.]] * 10)"
   ]
  },
  {
   "cell_type": "markdown",
   "metadata": {},
   "source": [
    "Again, define the placeholders, variables, model, and cost function:"
   ]
  },
  {
   "cell_type": "code",
   "execution_count": 5,
   "metadata": {},
   "outputs": [],
   "source": [
    "train_size, num_features = xs.shape\n",
    "\n",
    "X = tf.placeholder(\"float\", shape=[None, num_features])\n",
    "Y = tf.placeholder(\"float\", shape=[None, num_labels])\n",
    "\n",
    "W = tf.Variable(tf.zeros([num_features, num_labels]))\n",
    "b = tf.Variable(tf.zeros([num_labels]))\n",
    "y_model = tf.nn.softmax(tf.matmul(X, W) + b)\n",
    "\n",
    "cost = -tf.reduce_sum(Y * tf.log(y_model))\n",
    "train_op = tf.train.GradientDescentOptimizer(learning_rate).minimize(cost)\n",
    "\n",
    "correct_prediction = tf.equal(tf.argmax(y_model, 1), tf.argmax(Y, 1))\n",
    "accuracy = tf.reduce_mean(tf.cast(correct_prediction, \"float\"))"
   ]
  },
  {
   "cell_type": "markdown",
   "metadata": {},
   "source": [
    "Train the softmax classification model:"
   ]
  },
  {
   "cell_type": "code",
   "execution_count": 6,
   "metadata": {},
   "outputs": [
    {
     "name": "stdout",
     "output_type": "stream",
     "text": [
      "0 109.86121\n",
      "100 2.6645274\n",
      "200 3.9532566\n",
      "300 4.7931147\n",
      "400 0.8040217\n",
      "500 2.602008\n",
      "600 3.5794263\n",
      "700 0.47428218\n",
      "800 2.1511922\n",
      "900 3.0223403\n",
      "1000 0.3335772\n",
      "1100 1.9131476\n",
      "1200 2.6843002\n",
      "1300 0.2551448\n",
      "1400 1.7614185\n",
      "1500 2.45118\n",
      "1600 0.2050623\n",
      "1700 1.6538025\n",
      "1800 2.2778666\n",
      "1900 0.17031425\n",
      "2000 1.5719897\n",
      "2100 2.142426\n",
      "2200 0.1448169\n",
      "2300 1.5066985\n",
      "2400 2.0327337\n",
      "2500 0.1253329\n",
      "2600 1.4526923\n",
      "2700 1.9414712\n",
      "2800 0.109981865\n",
      "2900 1.4067965\n",
      "w [[-2.7152019   0.37159902  2.343597  ]\n",
      " [ 0.1435045   2.5998118  -2.7433176 ]]\n",
      "b [10.6033945 -5.25284   -5.3505898]\n",
      "accuracy 1.0\n"
     ]
    }
   ],
   "source": [
    "with tf.Session() as sess:\n",
    "    tf.global_variables_initializer().run()\n",
    "\n",
    "    for step in range(training_epochs * train_size // batch_size):\n",
    "        offset = (step * batch_size) % train_size\n",
    "        batch_xs = xs[offset:(offset + batch_size), :]\n",
    "        batch_labels = labels[offset:(offset + batch_size)]\n",
    "        err, _ = sess.run([cost, train_op], feed_dict={X: batch_xs, Y: batch_labels})\n",
    "        if step % 100 == 0:\n",
    "            print (step, err)\n",
    "\n",
    "    W_val = sess.run(W)\n",
    "    print('w', W_val)\n",
    "    b_val = sess.run(b)\n",
    "    print('b', b_val)\n",
    "    print(\"accuracy\", accuracy.eval(feed_dict={X: test_xs, Y: test_labels}))"
   ]
  },
  {
   "cell_type": "code",
   "execution_count": null,
   "metadata": {},
   "outputs": [],
   "source": []
  }
 ],
 "metadata": {
  "kernelspec": {
   "display_name": "Python 3",
   "language": "python",
   "name": "python3"
  },
  "language_info": {
   "codemirror_mode": {
    "name": "ipython",
    "version": 3
   },
   "file_extension": ".py",
   "mimetype": "text/x-python",
   "name": "python",
   "nbconvert_exporter": "python",
   "pygments_lexer": "ipython3",
   "version": "3.6.4"
  }
 },
 "nbformat": 4,
 "nbformat_minor": 1
}
